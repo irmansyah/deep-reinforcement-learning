{
 "cells": [
  {
   "cell_type": "code",
   "execution_count": 58,
   "metadata": {},
   "outputs": [
    {
     "name": "stdout",
     "output_type": "stream",
     "text": [
      "Requirement already satisfied: tensorflow==2.3.0 in /Users/mane/opt/anaconda3/lib/python3.8/site-packages (2.3.0)\n",
      "Requirement already satisfied: wrapt>=1.11.1 in /Users/mane/opt/anaconda3/lib/python3.8/site-packages (from tensorflow==2.3.0) (1.11.2)\n",
      "Requirement already satisfied: google-pasta>=0.1.8 in /Users/mane/opt/anaconda3/lib/python3.8/site-packages (from tensorflow==2.3.0) (0.2.0)\n",
      "Requirement already satisfied: keras-preprocessing<1.2,>=1.1.1 in /Users/mane/opt/anaconda3/lib/python3.8/site-packages (from tensorflow==2.3.0) (1.1.2)\n",
      "Requirement already satisfied: numpy<1.19.0,>=1.16.0 in /Users/mane/opt/anaconda3/lib/python3.8/site-packages (from tensorflow==2.3.0) (1.18.5)\n",
      "Requirement already satisfied: protobuf>=3.9.2 in /Users/mane/opt/anaconda3/lib/python3.8/site-packages (from tensorflow==2.3.0) (3.14.0)\n",
      "Requirement already satisfied: tensorboard<3,>=2.3.0 in /Users/mane/opt/anaconda3/lib/python3.8/site-packages (from tensorflow==2.3.0) (2.4.0)\n",
      "Requirement already satisfied: opt-einsum>=2.3.2 in /Users/mane/opt/anaconda3/lib/python3.8/site-packages (from tensorflow==2.3.0) (3.3.0)\n",
      "Requirement already satisfied: wheel>=0.26 in /Users/mane/opt/anaconda3/lib/python3.8/site-packages (from tensorflow==2.3.0) (0.35.1)\n",
      "Requirement already satisfied: grpcio>=1.8.6 in /Users/mane/opt/anaconda3/lib/python3.8/site-packages (from tensorflow==2.3.0) (1.33.2)\n",
      "Requirement already satisfied: scipy==1.4.1 in /Users/mane/opt/anaconda3/lib/python3.8/site-packages (from tensorflow==2.3.0) (1.4.1)\n",
      "Requirement already satisfied: h5py<2.11.0,>=2.10.0 in /Users/mane/opt/anaconda3/lib/python3.8/site-packages (from tensorflow==2.3.0) (2.10.0)\n",
      "Requirement already satisfied: termcolor>=1.1.0 in /Users/mane/opt/anaconda3/lib/python3.8/site-packages (from tensorflow==2.3.0) (1.1.0)\n",
      "Requirement already satisfied: absl-py>=0.7.0 in /Users/mane/opt/anaconda3/lib/python3.8/site-packages (from tensorflow==2.3.0) (0.11.0)\n",
      "Requirement already satisfied: astunparse==1.6.3 in /Users/mane/opt/anaconda3/lib/python3.8/site-packages (from tensorflow==2.3.0) (1.6.3)\n",
      "Requirement already satisfied: tensorflow-estimator<2.4.0,>=2.3.0 in /Users/mane/opt/anaconda3/lib/python3.8/site-packages (from tensorflow==2.3.0) (2.3.0)\n",
      "Requirement already satisfied: gast==0.3.3 in /Users/mane/opt/anaconda3/lib/python3.8/site-packages (from tensorflow==2.3.0) (0.3.3)\n",
      "Requirement already satisfied: six>=1.12.0 in /Users/mane/opt/anaconda3/lib/python3.8/site-packages (from tensorflow==2.3.0) (1.15.0)\n",
      "Requirement already satisfied: setuptools>=41.0.0 in /Users/mane/opt/anaconda3/lib/python3.8/site-packages (from tensorboard<3,>=2.3.0->tensorflow==2.3.0) (50.3.1.post20201107)\n",
      "Requirement already satisfied: google-auth<2,>=1.6.3 in /Users/mane/opt/anaconda3/lib/python3.8/site-packages (from tensorboard<3,>=2.3.0->tensorflow==2.3.0) (1.23.0)\n",
      "Requirement already satisfied: requests<3,>=2.21.0 in /Users/mane/opt/anaconda3/lib/python3.8/site-packages (from tensorboard<3,>=2.3.0->tensorflow==2.3.0) (2.24.0)\n",
      "Requirement already satisfied: werkzeug>=0.11.15 in /Users/mane/opt/anaconda3/lib/python3.8/site-packages (from tensorboard<3,>=2.3.0->tensorflow==2.3.0) (1.0.1)\n",
      "Requirement already satisfied: tensorboard-plugin-wit>=1.6.0 in /Users/mane/opt/anaconda3/lib/python3.8/site-packages (from tensorboard<3,>=2.3.0->tensorflow==2.3.0) (1.7.0)\n",
      "Requirement already satisfied: google-auth-oauthlib<0.5,>=0.4.1 in /Users/mane/opt/anaconda3/lib/python3.8/site-packages (from tensorboard<3,>=2.3.0->tensorflow==2.3.0) (0.4.2)\n",
      "Requirement already satisfied: markdown>=2.6.8 in /Users/mane/opt/anaconda3/lib/python3.8/site-packages (from tensorboard<3,>=2.3.0->tensorflow==2.3.0) (3.3.3)\n",
      "Requirement already satisfied: pyasn1-modules>=0.2.1 in /Users/mane/opt/anaconda3/lib/python3.8/site-packages (from google-auth<2,>=1.6.3->tensorboard<3,>=2.3.0->tensorflow==2.3.0) (0.2.8)\n",
      "Requirement already satisfied: rsa<5,>=3.1.4; python_version >= \"3.5\" in /Users/mane/opt/anaconda3/lib/python3.8/site-packages (from google-auth<2,>=1.6.3->tensorboard<3,>=2.3.0->tensorflow==2.3.0) (4.6)\n",
      "Requirement already satisfied: cachetools<5.0,>=2.0.0 in /Users/mane/opt/anaconda3/lib/python3.8/site-packages (from google-auth<2,>=1.6.3->tensorboard<3,>=2.3.0->tensorflow==2.3.0) (4.1.1)\n",
      "Requirement already satisfied: chardet<4,>=3.0.2 in /Users/mane/opt/anaconda3/lib/python3.8/site-packages (from requests<3,>=2.21.0->tensorboard<3,>=2.3.0->tensorflow==2.3.0) (3.0.4)\n",
      "Requirement already satisfied: certifi>=2017.4.17 in /Users/mane/opt/anaconda3/lib/python3.8/site-packages (from requests<3,>=2.21.0->tensorboard<3,>=2.3.0->tensorflow==2.3.0) (2020.6.20)\n",
      "Requirement already satisfied: idna<3,>=2.5 in /Users/mane/opt/anaconda3/lib/python3.8/site-packages (from requests<3,>=2.21.0->tensorboard<3,>=2.3.0->tensorflow==2.3.0) (2.10)\n",
      "Requirement already satisfied: urllib3!=1.25.0,!=1.25.1,<1.26,>=1.21.1 in /Users/mane/opt/anaconda3/lib/python3.8/site-packages (from requests<3,>=2.21.0->tensorboard<3,>=2.3.0->tensorflow==2.3.0) (1.25.11)\n",
      "Requirement already satisfied: requests-oauthlib>=0.7.0 in /Users/mane/opt/anaconda3/lib/python3.8/site-packages (from google-auth-oauthlib<0.5,>=0.4.1->tensorboard<3,>=2.3.0->tensorflow==2.3.0) (1.3.0)\n",
      "Requirement already satisfied: pyasn1<0.5.0,>=0.4.6 in /Users/mane/opt/anaconda3/lib/python3.8/site-packages (from pyasn1-modules>=0.2.1->google-auth<2,>=1.6.3->tensorboard<3,>=2.3.0->tensorflow==2.3.0) (0.4.8)\n",
      "Requirement already satisfied: oauthlib>=3.0.0 in /Users/mane/opt/anaconda3/lib/python3.8/site-packages (from requests-oauthlib>=0.7.0->google-auth-oauthlib<0.5,>=0.4.1->tensorboard<3,>=2.3.0->tensorflow==2.3.0) (3.1.0)\n",
      "Requirement already satisfied: gym in /Users/mane/opt/anaconda3/lib/python3.8/site-packages (0.17.3)\n",
      "Requirement already satisfied: cloudpickle<1.7.0,>=1.2.0 in /Users/mane/opt/anaconda3/lib/python3.8/site-packages (from gym) (1.6.0)\n",
      "Requirement already satisfied: pyglet<=1.5.0,>=1.4.0 in /Users/mane/opt/anaconda3/lib/python3.8/site-packages (from gym) (1.5.0)\n",
      "Requirement already satisfied: scipy in /Users/mane/opt/anaconda3/lib/python3.8/site-packages (from gym) (1.4.1)\n",
      "Requirement already satisfied: numpy>=1.10.4 in /Users/mane/opt/anaconda3/lib/python3.8/site-packages (from gym) (1.18.5)\n",
      "Requirement already satisfied: future in /Users/mane/opt/anaconda3/lib/python3.8/site-packages (from pyglet<=1.5.0,>=1.4.0->gym) (0.18.2)\n",
      "Requirement already satisfied: keras in /Users/mane/opt/anaconda3/lib/python3.8/site-packages (2.4.3)\n",
      "Requirement already satisfied: pyyaml in /Users/mane/opt/anaconda3/lib/python3.8/site-packages (from keras) (5.3.1)\n",
      "Requirement already satisfied: h5py in /Users/mane/opt/anaconda3/lib/python3.8/site-packages (from keras) (2.10.0)\n",
      "Requirement already satisfied: scipy>=0.14 in /Users/mane/opt/anaconda3/lib/python3.8/site-packages (from keras) (1.4.1)\n",
      "Requirement already satisfied: numpy>=1.9.1 in /Users/mane/opt/anaconda3/lib/python3.8/site-packages (from keras) (1.18.5)\n",
      "Requirement already satisfied: six in /Users/mane/opt/anaconda3/lib/python3.8/site-packages (from h5py->keras) (1.15.0)\n",
      "Requirement already satisfied: keras-rl2 in /Users/mane/opt/anaconda3/lib/python3.8/site-packages (1.0.4)\n",
      "Requirement already satisfied: tensorflow>=2.1.0 in /Users/mane/opt/anaconda3/lib/python3.8/site-packages (from keras-rl2) (2.3.0)\n",
      "Requirement already satisfied: protobuf>=3.9.2 in /Users/mane/opt/anaconda3/lib/python3.8/site-packages (from tensorflow>=2.1.0->keras-rl2) (3.14.0)\n",
      "Requirement already satisfied: absl-py>=0.7.0 in /Users/mane/opt/anaconda3/lib/python3.8/site-packages (from tensorflow>=2.1.0->keras-rl2) (0.11.0)\n",
      "Requirement already satisfied: opt-einsum>=2.3.2 in /Users/mane/opt/anaconda3/lib/python3.8/site-packages (from tensorflow>=2.1.0->keras-rl2) (3.3.0)\n",
      "Requirement already satisfied: google-pasta>=0.1.8 in /Users/mane/opt/anaconda3/lib/python3.8/site-packages (from tensorflow>=2.1.0->keras-rl2) (0.2.0)\n",
      "Requirement already satisfied: numpy<1.19.0,>=1.16.0 in /Users/mane/opt/anaconda3/lib/python3.8/site-packages (from tensorflow>=2.1.0->keras-rl2) (1.18.5)\n",
      "Requirement already satisfied: keras-preprocessing<1.2,>=1.1.1 in /Users/mane/opt/anaconda3/lib/python3.8/site-packages (from tensorflow>=2.1.0->keras-rl2) (1.1.2)\n"
     ]
    },
    {
     "name": "stdout",
     "output_type": "stream",
     "text": [
      "Requirement already satisfied: termcolor>=1.1.0 in /Users/mane/opt/anaconda3/lib/python3.8/site-packages (from tensorflow>=2.1.0->keras-rl2) (1.1.0)\n",
      "Requirement already satisfied: gast==0.3.3 in /Users/mane/opt/anaconda3/lib/python3.8/site-packages (from tensorflow>=2.1.0->keras-rl2) (0.3.3)\n",
      "Requirement already satisfied: scipy==1.4.1 in /Users/mane/opt/anaconda3/lib/python3.8/site-packages (from tensorflow>=2.1.0->keras-rl2) (1.4.1)\n",
      "Requirement already satisfied: astunparse==1.6.3 in /Users/mane/opt/anaconda3/lib/python3.8/site-packages (from tensorflow>=2.1.0->keras-rl2) (1.6.3)\n",
      "Requirement already satisfied: tensorflow-estimator<2.4.0,>=2.3.0 in /Users/mane/opt/anaconda3/lib/python3.8/site-packages (from tensorflow>=2.1.0->keras-rl2) (2.3.0)\n",
      "Requirement already satisfied: wrapt>=1.11.1 in /Users/mane/opt/anaconda3/lib/python3.8/site-packages (from tensorflow>=2.1.0->keras-rl2) (1.11.2)\n",
      "Requirement already satisfied: h5py<2.11.0,>=2.10.0 in /Users/mane/opt/anaconda3/lib/python3.8/site-packages (from tensorflow>=2.1.0->keras-rl2) (2.10.0)\n",
      "Requirement already satisfied: grpcio>=1.8.6 in /Users/mane/opt/anaconda3/lib/python3.8/site-packages (from tensorflow>=2.1.0->keras-rl2) (1.33.2)\n",
      "Requirement already satisfied: tensorboard<3,>=2.3.0 in /Users/mane/opt/anaconda3/lib/python3.8/site-packages (from tensorflow>=2.1.0->keras-rl2) (2.4.0)\n",
      "Requirement already satisfied: six>=1.12.0 in /Users/mane/opt/anaconda3/lib/python3.8/site-packages (from tensorflow>=2.1.0->keras-rl2) (1.15.0)\n",
      "Requirement already satisfied: wheel>=0.26 in /Users/mane/opt/anaconda3/lib/python3.8/site-packages (from tensorflow>=2.1.0->keras-rl2) (0.35.1)\n",
      "Requirement already satisfied: requests<3,>=2.21.0 in /Users/mane/opt/anaconda3/lib/python3.8/site-packages (from tensorboard<3,>=2.3.0->tensorflow>=2.1.0->keras-rl2) (2.24.0)\n",
      "Requirement already satisfied: setuptools>=41.0.0 in /Users/mane/opt/anaconda3/lib/python3.8/site-packages (from tensorboard<3,>=2.3.0->tensorflow>=2.1.0->keras-rl2) (50.3.1.post20201107)\n",
      "Requirement already satisfied: google-auth<2,>=1.6.3 in /Users/mane/opt/anaconda3/lib/python3.8/site-packages (from tensorboard<3,>=2.3.0->tensorflow>=2.1.0->keras-rl2) (1.23.0)\n",
      "Requirement already satisfied: google-auth-oauthlib<0.5,>=0.4.1 in /Users/mane/opt/anaconda3/lib/python3.8/site-packages (from tensorboard<3,>=2.3.0->tensorflow>=2.1.0->keras-rl2) (0.4.2)\n",
      "Requirement already satisfied: markdown>=2.6.8 in /Users/mane/opt/anaconda3/lib/python3.8/site-packages (from tensorboard<3,>=2.3.0->tensorflow>=2.1.0->keras-rl2) (3.3.3)\n",
      "Requirement already satisfied: tensorboard-plugin-wit>=1.6.0 in /Users/mane/opt/anaconda3/lib/python3.8/site-packages (from tensorboard<3,>=2.3.0->tensorflow>=2.1.0->keras-rl2) (1.7.0)\n",
      "Requirement already satisfied: werkzeug>=0.11.15 in /Users/mane/opt/anaconda3/lib/python3.8/site-packages (from tensorboard<3,>=2.3.0->tensorflow>=2.1.0->keras-rl2) (1.0.1)\n",
      "Requirement already satisfied: idna<3,>=2.5 in /Users/mane/opt/anaconda3/lib/python3.8/site-packages (from requests<3,>=2.21.0->tensorboard<3,>=2.3.0->tensorflow>=2.1.0->keras-rl2) (2.10)\n",
      "Requirement already satisfied: urllib3!=1.25.0,!=1.25.1,<1.26,>=1.21.1 in /Users/mane/opt/anaconda3/lib/python3.8/site-packages (from requests<3,>=2.21.0->tensorboard<3,>=2.3.0->tensorflow>=2.1.0->keras-rl2) (1.25.11)\n",
      "Requirement already satisfied: chardet<4,>=3.0.2 in /Users/mane/opt/anaconda3/lib/python3.8/site-packages (from requests<3,>=2.21.0->tensorboard<3,>=2.3.0->tensorflow>=2.1.0->keras-rl2) (3.0.4)\n",
      "Requirement already satisfied: certifi>=2017.4.17 in /Users/mane/opt/anaconda3/lib/python3.8/site-packages (from requests<3,>=2.21.0->tensorboard<3,>=2.3.0->tensorflow>=2.1.0->keras-rl2) (2020.6.20)\n",
      "Requirement already satisfied: rsa<5,>=3.1.4; python_version >= \"3.5\" in /Users/mane/opt/anaconda3/lib/python3.8/site-packages (from google-auth<2,>=1.6.3->tensorboard<3,>=2.3.0->tensorflow>=2.1.0->keras-rl2) (4.6)\n",
      "Requirement already satisfied: pyasn1-modules>=0.2.1 in /Users/mane/opt/anaconda3/lib/python3.8/site-packages (from google-auth<2,>=1.6.3->tensorboard<3,>=2.3.0->tensorflow>=2.1.0->keras-rl2) (0.2.8)\n",
      "Requirement already satisfied: cachetools<5.0,>=2.0.0 in /Users/mane/opt/anaconda3/lib/python3.8/site-packages (from google-auth<2,>=1.6.3->tensorboard<3,>=2.3.0->tensorflow>=2.1.0->keras-rl2) (4.1.1)\n",
      "Requirement already satisfied: requests-oauthlib>=0.7.0 in /Users/mane/opt/anaconda3/lib/python3.8/site-packages (from google-auth-oauthlib<0.5,>=0.4.1->tensorboard<3,>=2.3.0->tensorflow>=2.1.0->keras-rl2) (1.3.0)\n",
      "Requirement already satisfied: pyasn1>=0.1.3 in /Users/mane/opt/anaconda3/lib/python3.8/site-packages (from rsa<5,>=3.1.4; python_version >= \"3.5\"->google-auth<2,>=1.6.3->tensorboard<3,>=2.3.0->tensorflow>=2.1.0->keras-rl2) (0.4.8)\n",
      "Requirement already satisfied: oauthlib>=3.0.0 in /Users/mane/opt/anaconda3/lib/python3.8/site-packages (from requests-oauthlib>=0.7.0->google-auth-oauthlib<0.5,>=0.4.1->tensorboard<3,>=2.3.0->tensorflow>=2.1.0->keras-rl2) (3.1.0)\n"
     ]
    }
   ],
   "source": [
    "!pip install tensorflow==2.3.0\n",
    "!pip install gym\n",
    "!pip install keras\n",
    "!pip install keras-rl2"
   ]
  },
  {
   "cell_type": "code",
   "execution_count": 59,
   "metadata": {},
   "outputs": [],
   "source": [
    "import gym\n",
    "import random"
   ]
  },
  {
   "cell_type": "code",
   "execution_count": 60,
   "metadata": {},
   "outputs": [],
   "source": [
    "env = gym.make('CartPole-v0')\n",
    "states = env.observation_space.shape[0]\n",
    "actions = env.action_space.n"
   ]
  },
  {
   "cell_type": "code",
   "execution_count": 61,
   "metadata": {},
   "outputs": [
    {
     "name": "stdout",
     "output_type": "stream",
     "text": [
      "Episode:1 Score:22.0\n",
      "Episode:2 Score:35.0\n",
      "Episode:3 Score:44.0\n",
      "Episode:4 Score:11.0\n",
      "Episode:5 Score:24.0\n",
      "Episode:6 Score:19.0\n",
      "Episode:7 Score:12.0\n",
      "Episode:8 Score:26.0\n",
      "Episode:9 Score:24.0\n",
      "Episode:10 Score:43.0\n"
     ]
    }
   ],
   "source": [
    "episodes = 10\n",
    "for episode in range(1, episodes+1):\n",
    "    state = env.reset()\n",
    "    done = False\n",
    "    score = 0\n",
    "    \n",
    "    while not done:\n",
    "        env.render()\n",
    "        action = random.choice([0,1])\n",
    "        n_state, reward, done, info = env.step(action)\n",
    "        score+=reward\n",
    "        \n",
    "    print('Episode:{} Score:{}'.format(episode, score))"
   ]
  },
  {
   "cell_type": "code",
   "execution_count": 62,
   "metadata": {},
   "outputs": [],
   "source": [
    "import numpy as np\n",
    "from tensorflow.keras.models import Sequential\n",
    "from tensorflow.keras.layers import Dense, Flatten\n",
    "from tensorflow.keras.optimizers import Adam"
   ]
  },
  {
   "cell_type": "code",
   "execution_count": 63,
   "metadata": {},
   "outputs": [],
   "source": [
    "def build_model(states, actio):\n",
    "    model = Sequential()\n",
    "    model.add(Flatten(input_shape=(1,states)))\n",
    "    model.add(Dense(24, activation='relu'))\n",
    "    model.add(Dense(24, activation='relu'))\n",
    "    model.add(Dense(actions, activation='linear'))\n",
    "    return model"
   ]
  },
  {
   "cell_type": "code",
   "execution_count": 64,
   "metadata": {},
   "outputs": [],
   "source": [
    "model = build_model(states, actions)"
   ]
  },
  {
   "cell_type": "code",
   "execution_count": 65,
   "metadata": {},
   "outputs": [
    {
     "name": "stdout",
     "output_type": "stream",
     "text": [
      "Model: \"sequential_6\"\n",
      "_________________________________________________________________\n",
      "Layer (type)                 Output Shape              Param #   \n",
      "=================================================================\n",
      "flatten_6 (Flatten)          (None, 4)                 0         \n",
      "_________________________________________________________________\n",
      "dense_18 (Dense)             (None, 24)                120       \n",
      "_________________________________________________________________\n",
      "dense_19 (Dense)             (None, 24)                600       \n",
      "_________________________________________________________________\n",
      "dense_20 (Dense)             (None, 2)                 50        \n",
      "=================================================================\n",
      "Total params: 770\n",
      "Trainable params: 770\n",
      "Non-trainable params: 0\n",
      "_________________________________________________________________\n"
     ]
    }
   ],
   "source": [
    "model.summary()"
   ]
  },
  {
   "cell_type": "code",
   "execution_count": 66,
   "metadata": {},
   "outputs": [],
   "source": [
    "from rl.agents import DQNAgent\n",
    "from rl.policy import BoltzmannQPolicy\n",
    "from rl.memory import SequentialMemory"
   ]
  },
  {
   "cell_type": "code",
   "execution_count": 67,
   "metadata": {},
   "outputs": [],
   "source": [
    "def build_agent(model, actions):\n",
    "    policy = BoltzmannQPolicy()\n",
    "    memory = SequentialMemory(limit=50000, window_length=1)\n",
    "    dqn = DQNAgent(model=model, memory=memory, policy=policy, \n",
    "                  nb_actions=actions, nb_steps_warmup=10, target_model_update=1e-2)\n",
    "    return dqn\n",
    "\n"
   ]
  },
  {
   "cell_type": "code",
   "execution_count": 68,
   "metadata": {},
   "outputs": [
    {
     "name": "stdout",
     "output_type": "stream",
     "text": [
      "Training for 50000 steps ...\n",
      "Interval 1 (0 steps performed)\n",
      "10000/10000 [==============================] - 184s 18ms/step - reward: 1.0000\n",
      "110 episodes - episode_reward: 89.827 [10.000, 200.000] - loss: 2.816 - mae: 19.512 - mean_q: 39.518\n",
      "\n",
      "Interval 2 (10000 steps performed)\n",
      "10000/10000 [==============================] - 143s 14ms/step - reward: 1.0000\n",
      "52 episodes - episode_reward: 191.019 [153.000, 200.000] - loss: 6.712 - mae: 39.906 - mean_q: 80.503\n",
      "\n",
      "Interval 3 (20000 steps performed)\n",
      "10000/10000 [==============================] - 114s 11ms/step - reward: 1.0000\n",
      "54 episodes - episode_reward: 185.944 [139.000, 200.000] - loss: 6.856 - mae: 45.644 - mean_q: 91.968\n",
      "\n",
      "Interval 4 (30000 steps performed)\n",
      "10000/10000 [==============================] - 100s 10ms/step - reward: 1.0000\n",
      "54 episodes - episode_reward: 184.963 [142.000, 200.000] - loss: 5.016 - mae: 43.442 - mean_q: 87.352\n",
      "\n",
      "Interval 5 (40000 steps performed)\n",
      "10000/10000 [==============================] - 120s 12ms/step - reward: 1.0000\n",
      "done, took 661.350 seconds\n"
     ]
    },
    {
     "data": {
      "text/plain": [
       "<tensorflow.python.keras.callbacks.History at 0x7fb02ff10190>"
      ]
     },
     "execution_count": 68,
     "metadata": {},
     "output_type": "execute_result"
    }
   ],
   "source": [
    "dqn = build_agent(model, actions)\n",
    "dqn.compile(Adam(lr=1e-3), metrics=['mae'])\n",
    "dqn.fit(env, nb_steps=50000, visualize=False, verbose=1)"
   ]
  },
  {
   "cell_type": "code",
   "execution_count": 69,
   "metadata": {},
   "outputs": [
    {
     "name": "stdout",
     "output_type": "stream",
     "text": [
      "Testing for 100 episodes ...\n",
      "Episode 1: reward: 196.000, steps: 196\n",
      "Episode 2: reward: 193.000, steps: 193\n",
      "Episode 3: reward: 184.000, steps: 184\n",
      "Episode 4: reward: 177.000, steps: 177\n",
      "Episode 5: reward: 180.000, steps: 180\n",
      "Episode 6: reward: 177.000, steps: 177\n",
      "Episode 7: reward: 187.000, steps: 187\n",
      "Episode 8: reward: 190.000, steps: 190\n",
      "Episode 9: reward: 190.000, steps: 190\n",
      "Episode 10: reward: 182.000, steps: 182\n",
      "Episode 11: reward: 177.000, steps: 177\n",
      "Episode 12: reward: 186.000, steps: 186\n",
      "Episode 13: reward: 171.000, steps: 171\n",
      "Episode 14: reward: 175.000, steps: 175\n",
      "Episode 15: reward: 175.000, steps: 175\n",
      "Episode 16: reward: 188.000, steps: 188\n",
      "Episode 17: reward: 181.000, steps: 181\n",
      "Episode 18: reward: 182.000, steps: 182\n",
      "Episode 19: reward: 174.000, steps: 174\n",
      "Episode 20: reward: 185.000, steps: 185\n",
      "Episode 21: reward: 178.000, steps: 178\n",
      "Episode 22: reward: 180.000, steps: 180\n",
      "Episode 23: reward: 190.000, steps: 190\n",
      "Episode 24: reward: 191.000, steps: 191\n",
      "Episode 25: reward: 190.000, steps: 190\n",
      "Episode 26: reward: 185.000, steps: 185\n",
      "Episode 27: reward: 189.000, steps: 189\n",
      "Episode 28: reward: 186.000, steps: 186\n",
      "Episode 29: reward: 172.000, steps: 172\n",
      "Episode 30: reward: 170.000, steps: 170\n",
      "Episode 31: reward: 187.000, steps: 187\n",
      "Episode 32: reward: 169.000, steps: 169\n",
      "Episode 33: reward: 185.000, steps: 185\n",
      "Episode 34: reward: 186.000, steps: 186\n",
      "Episode 35: reward: 180.000, steps: 180\n",
      "Episode 36: reward: 174.000, steps: 174\n",
      "Episode 37: reward: 174.000, steps: 174\n",
      "Episode 38: reward: 185.000, steps: 185\n",
      "Episode 39: reward: 181.000, steps: 181\n",
      "Episode 40: reward: 186.000, steps: 186\n",
      "Episode 41: reward: 186.000, steps: 186\n",
      "Episode 42: reward: 192.000, steps: 192\n",
      "Episode 43: reward: 180.000, steps: 180\n",
      "Episode 44: reward: 176.000, steps: 176\n",
      "Episode 45: reward: 185.000, steps: 185\n",
      "Episode 46: reward: 182.000, steps: 182\n",
      "Episode 47: reward: 186.000, steps: 186\n",
      "Episode 48: reward: 199.000, steps: 199\n",
      "Episode 49: reward: 168.000, steps: 168\n",
      "Episode 50: reward: 195.000, steps: 195\n",
      "Episode 51: reward: 183.000, steps: 183\n",
      "Episode 52: reward: 183.000, steps: 183\n",
      "Episode 53: reward: 185.000, steps: 185\n",
      "Episode 54: reward: 185.000, steps: 185\n",
      "Episode 55: reward: 183.000, steps: 183\n",
      "Episode 56: reward: 180.000, steps: 180\n",
      "Episode 57: reward: 200.000, steps: 200\n",
      "Episode 58: reward: 186.000, steps: 186\n",
      "Episode 59: reward: 186.000, steps: 186\n",
      "Episode 60: reward: 176.000, steps: 176\n",
      "Episode 61: reward: 186.000, steps: 186\n",
      "Episode 62: reward: 194.000, steps: 194\n",
      "Episode 63: reward: 183.000, steps: 183\n",
      "Episode 64: reward: 175.000, steps: 175\n",
      "Episode 65: reward: 184.000, steps: 184\n",
      "Episode 66: reward: 185.000, steps: 185\n",
      "Episode 67: reward: 171.000, steps: 171\n",
      "Episode 68: reward: 184.000, steps: 184\n",
      "Episode 69: reward: 175.000, steps: 175\n",
      "Episode 70: reward: 182.000, steps: 182\n",
      "Episode 71: reward: 181.000, steps: 181\n",
      "Episode 72: reward: 178.000, steps: 178\n",
      "Episode 73: reward: 178.000, steps: 178\n",
      "Episode 74: reward: 182.000, steps: 182\n",
      "Episode 75: reward: 175.000, steps: 175\n",
      "Episode 76: reward: 187.000, steps: 187\n",
      "Episode 77: reward: 182.000, steps: 182\n",
      "Episode 78: reward: 191.000, steps: 191\n",
      "Episode 79: reward: 183.000, steps: 183\n",
      "Episode 80: reward: 181.000, steps: 181\n",
      "Episode 81: reward: 179.000, steps: 179\n",
      "Episode 82: reward: 177.000, steps: 177\n",
      "Episode 83: reward: 184.000, steps: 184\n",
      "Episode 84: reward: 177.000, steps: 177\n",
      "Episode 85: reward: 189.000, steps: 189\n",
      "Episode 86: reward: 178.000, steps: 178\n",
      "Episode 87: reward: 189.000, steps: 189\n",
      "Episode 88: reward: 188.000, steps: 188\n",
      "Episode 89: reward: 184.000, steps: 184\n",
      "Episode 90: reward: 175.000, steps: 175\n",
      "Episode 91: reward: 177.000, steps: 177\n",
      "Episode 92: reward: 195.000, steps: 195\n",
      "Episode 93: reward: 191.000, steps: 191\n",
      "Episode 94: reward: 181.000, steps: 181\n",
      "Episode 95: reward: 181.000, steps: 181\n",
      "Episode 96: reward: 178.000, steps: 178\n",
      "Episode 97: reward: 187.000, steps: 187\n",
      "Episode 98: reward: 172.000, steps: 172\n",
      "Episode 99: reward: 184.000, steps: 184\n",
      "Episode 100: reward: 171.000, steps: 171\n",
      "182.58\n"
     ]
    }
   ],
   "source": [
    "scores =  dqn.test(env, nb_episodes=100, visualize=False)\n",
    "print(np.mean(scores.history['episode_reward']))"
   ]
  },
  {
   "cell_type": "code",
   "execution_count": 70,
   "metadata": {},
   "outputs": [
    {
     "name": "stdout",
     "output_type": "stream",
     "text": [
      "Testing for 15 episodes ...\n",
      "Episode 1: reward: 182.000, steps: 182\n",
      "Episode 2: reward: 196.000, steps: 196\n",
      "Episode 3: reward: 183.000, steps: 183\n",
      "Episode 4: reward: 187.000, steps: 187\n",
      "Episode 5: reward: 177.000, steps: 177\n",
      "Episode 6: reward: 200.000, steps: 200\n",
      "Episode 7: reward: 200.000, steps: 200\n",
      "Episode 8: reward: 188.000, steps: 188\n",
      "Episode 9: reward: 187.000, steps: 187\n",
      "Episode 10: reward: 197.000, steps: 197\n",
      "Episode 11: reward: 195.000, steps: 195\n",
      "Episode 12: reward: 186.000, steps: 186\n",
      "Episode 13: reward: 182.000, steps: 182\n",
      "Episode 14: reward: 174.000, steps: 174\n",
      "Episode 15: reward: 180.000, steps: 180\n"
     ]
    }
   ],
   "source": [
    "_ = dqn.test(env, nb_episodes=15, visualize=True)"
   ]
  },
  {
   "cell_type": "code",
   "execution_count": 71,
   "metadata": {},
   "outputs": [],
   "source": [
    "dqn.save_weights('dqn_weights.h5f', overwrite=True)"
   ]
  },
  {
   "cell_type": "code",
   "execution_count": 76,
   "metadata": {},
   "outputs": [],
   "source": [
    "del model\n",
    "del dqn\n",
    "del env"
   ]
  },
  {
   "cell_type": "code",
   "execution_count": 77,
   "metadata": {},
   "outputs": [],
   "source": [
    "env = gym.make('CartPole-v0')\n",
    "actions = env.action_space.n\n",
    "states = env.observation_space.shape[0]\n",
    "model = build_model(states, actions)\n",
    "dqn = build_agent(model, actions)\n",
    "dqn.compile(Adam(lr=1e-3), metrics=['mae'])"
   ]
  },
  {
   "cell_type": "code",
   "execution_count": 78,
   "metadata": {},
   "outputs": [],
   "source": [
    "dqn.load_weights('dqn_weights.h5f')"
   ]
  },
  {
   "cell_type": "code",
   "execution_count": 79,
   "metadata": {},
   "outputs": [
    {
     "name": "stdout",
     "output_type": "stream",
     "text": [
      "Testing for 5 episodes ...\n",
      "Episode 1: reward: 180.000, steps: 180\n",
      "Episode 2: reward: 181.000, steps: 181\n",
      "Episode 3: reward: 186.000, steps: 186\n",
      "Episode 4: reward: 173.000, steps: 173\n",
      "Episode 5: reward: 191.000, steps: 191\n"
     ]
    }
   ],
   "source": [
    "_ = dqn.test(env, nb_episodes=5, visualize=True)"
   ]
  },
  {
   "cell_type": "code",
   "execution_count": null,
   "metadata": {},
   "outputs": [],
   "source": []
  }
 ],
 "metadata": {
  "kernelspec": {
   "display_name": "Python 3",
   "language": "python",
   "name": "python3"
  },
  "language_info": {
   "codemirror_mode": {
    "name": "ipython",
    "version": 3
   },
   "file_extension": ".py",
   "mimetype": "text/x-python",
   "name": "python",
   "nbconvert_exporter": "python",
   "pygments_lexer": "ipython3",
   "version": "3.8.5"
  }
 },
 "nbformat": 4,
 "nbformat_minor": 4
}
